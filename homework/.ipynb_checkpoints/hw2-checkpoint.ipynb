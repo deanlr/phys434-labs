{
 "cells": [
  {
   "cell_type": "markdown",
   "id": "508f85ba-ecb8-4e91-b284-d58b0f450e69",
   "metadata": {},
   "source": [
    "7 > 1 52 25 34 43 61 16 6x greater\n",
    "\n",
    "Following what we did in class show how to use the convolution operator to determine the probability of the sum of 2 six sided dice. Do both analytically (math & counting) and numerically (computer program). Beware the implicit definition of the values (x-axis on histogram).\n",
    "\n",
    " Calculate the mean and the variance of the distribution in problem 2\n",
    " \n",
    " \n",
    " avg of 10 dice is just convolution of 10 divided by 10\n",
    " \n",
    " Show that the sum and average of an initially Gaussian distribution is also a Guassian (can be analytic or numerical). How does the standard deviation of the resulting sum or average Guassian change? This is a hugely important result. Explore what this means for integrating a signal over time"
   ]
  },
  {
   "cell_type": "code",
   "execution_count": null,
   "id": "e487ae92-232a-430c-8af5-e1a1b4b457c3",
   "metadata": {},
   "outputs": [],
   "source": []
  }
 ],
 "metadata": {
  "kernelspec": {
   "display_name": "Python 3",
   "language": "python",
   "name": "python3"
  },
  "language_info": {
   "codemirror_mode": {
    "name": "ipython",
    "version": 3
   },
   "file_extension": ".py",
   "mimetype": "text/x-python",
   "name": "python",
   "nbconvert_exporter": "python",
   "pygments_lexer": "ipython3",
   "version": "3.8.8"
  }
 },
 "nbformat": 4,
 "nbformat_minor": 5
}
