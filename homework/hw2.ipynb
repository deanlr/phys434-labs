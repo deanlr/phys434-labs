{
 "cells": [
  {
   "cell_type": "code",
   "execution_count": 2,
   "id": "e487ae92-232a-430c-8af5-e1a1b4b457c3",
   "metadata": {
    "tags": []
   },
   "outputs": [],
   "source": [
    "import numpy as np\n",
    "from scipy import stats\n",
    "import statistics as st\n",
    "import matplotlib.pyplot as plt"
   ]
  },
  {
   "cell_type": "markdown",
   "id": "db201e1f-7bfc-4b1d-9e1a-b3a279f45534",
   "metadata": {},
   "source": [
    "#### Problem 1\n",
    "---"
   ]
  },
  {
   "cell_type": "code",
   "execution_count": 3,
   "id": "657082f9-781a-4a81-b44e-ab0c6acf5396",
   "metadata": {},
   "outputs": [
    {
     "name": "stdout",
     "output_type": "stream",
     "text": [
      "6.0\n"
     ]
    }
   ],
   "source": [
    "p_zero = 1/36\n",
    "\n",
    "p_seven = 1/6\n",
    "\n",
    "ratio = p_seven/p_zero\n",
    "\n",
    "print(ratio)"
   ]
  },
  {
   "cell_type": "markdown",
   "id": "af09ce97-ddd2-42d6-a3e0-62f2c3826255",
   "metadata": {},
   "source": [
    "#### Problem 2\n",
    "---\n",
    "\n",
    "\n",
    "P(2): 1/36\n",
    "\n",
    "P(3): 2/36\n",
    "\n",
    "P(4): 3/36\n",
    "\n",
    "P(5): 4/36\n",
    "\n",
    "P(6): 5/36\n",
    "\n",
    "P(7): 6/36\n",
    "\n",
    "P(8)  5/36\n",
    "\n",
    "P(9): 4/36\n",
    "\n",
    "P(10) 3/36\n",
    "\n",
    "P(11) 2/36\n",
    "\n",
    "P(12) 1/36"
   ]
  },
  {
   "cell_type": "code",
   "execution_count": 4,
   "id": "bf40128d-0c93-45c7-8d4c-be2aef3e85d0",
   "metadata": {},
   "outputs": [
    {
     "name": "stdout",
     "output_type": "stream",
     "text": [
      "[0.02777778 0.05555556 0.08333333 0.11111111 0.13888889 0.16666667\n",
      " 0.13888889 0.11111111 0.08333333 0.05555556 0.02777778]\n"
     ]
    }
   ],
   "source": [
    "a = [1/6, 1/6, 1/6, 1/6, 1/6, 1/6]\n",
    "b = a\n",
    "dice_num = 2\n",
    "\n",
    "for i in range(1, dice_num):\n",
    "    conv = np.convolve(a,b)\n",
    "    a = conv\n",
    "    \n",
    "print(conv)"
   ]
  },
  {
   "cell_type": "code",
   "execution_count": 5,
   "id": "b2b6ca06-02b3-4913-8359-64f792a46f5c",
   "metadata": {},
   "outputs": [
    {
     "name": "stdout",
     "output_type": "stream",
     "text": [
      "0.04446165874156316\n"
     ]
    },
    {
     "data": {
      "text/plain": [
       "[<matplotlib.lines.Line2D at 0x7f60c8a977f0>]"
      ]
     },
     "execution_count": 5,
     "metadata": {},
     "output_type": "execute_result"
    },
    {
     "data": {
      "image/png": "[encoded data removed]",
      "text/plain": [
       "<Figure size 432x288 with 1 Axes>"
      ]
     },
     "metadata": {
      "needs_background": "light"
     },
     "output_type": "display_data"
    }
   ],
   "source": [
    "fig, ax = plt.subplots(1,1)\n",
    "\n",
    "x = range(2,13) #numerical outcomes of 2 dice\n",
    "\n",
    "print(np.std(conv))\n",
    "\n",
    "plt.plot(x,conv, '.')"
   ]
  },
  {
   "cell_type": "markdown",
   "id": "6b28f053-5d26-4c91-86ab-7155ebdbb6dd",
   "metadata": {},
   "source": [
    "#### Problem 3\n",
    "---\n"
   ]
  },
  {
   "cell_type": "markdown",
   "id": "4935b098-7487-4fe8-a017-8e629859af54",
   "metadata": {},
   "source": [
    "Variance of one die:"
   ]
  },
  {
   "cell_type": "code",
   "execution_count": 6,
   "id": "8231d3fe-df06-4ad2-9ddd-2fbb3d165800",
   "metadata": {},
   "outputs": [
    {
     "data": {
      "text/plain": [
       "2.9166666666666665"
      ]
     },
     "execution_count": 6,
     "metadata": {},
     "output_type": "execute_result"
    }
   ],
   "source": [
    "np.var([1,2,3,4,5,6])"
   ]
  },
  {
   "cell_type": "markdown",
   "id": "d54b121c-f875-468c-b69d-286cfaa5b683",
   "metadata": {},
   "source": [
    "Mean of 1 die: 3.5"
   ]
  },
  {
   "cell_type": "markdown",
   "id": "48c18bfd-e019-4ffa-b30b-50b8858a57af",
   "metadata": {},
   "source": [
    "Variance of two dice: If two variables are independent, var(x+y) = var(x) + var(y).\n",
    "\n",
    "Thus,\n",
    "\n",
    "Variance of two dice:"
   ]
  },
  {
   "cell_type": "code",
   "execution_count": 7,
   "id": "02f4b347-a0c2-42fb-8b10-84f70811f256",
   "metadata": {},
   "outputs": [
    {
     "data": {
      "text/plain": [
       "5.833333333333333"
      ]
     },
     "execution_count": 7,
     "metadata": {},
     "output_type": "execute_result"
    }
   ],
   "source": [
    "2 * np.var([1,2,3,4,5,6])"
   ]
  },
  {
   "cell_type": "markdown",
   "id": "dd531822-627f-4558-a448-c6904028100e",
   "metadata": {},
   "source": [
    "#### Problem 4\n",
    "---"
   ]
  },
  {
   "cell_type": "code",
   "execution_count": 8,
   "id": "05bb190d-5ca1-4e6f-81b6-c9678b184020",
   "metadata": {},
   "outputs": [
    {
     "name": "stdout",
     "output_type": "stream",
     "text": [
      "0.02513132061141249\n"
     ]
    },
    {
     "data": {
      "text/plain": [
       "[<matplotlib.lines.Line2D at 0x7f60c89944f0>]"
      ]
     },
     "execution_count": 8,
     "metadata": {},
     "output_type": "execute_result"
    },
    {
     "data": {
      "image/png": "[encoded data removed]",
      "text/plain": [
       "<Figure size 432x288 with 1 Axes>"
      ]
     },
     "metadata": {
      "needs_background": "light"
     },
     "output_type": "display_data"
    }
   ],
   "source": [
    "a = [1/6, 1/6, 1/6, 1/6, 1/6, 1/6]\n",
    "b = a\n",
    "dice_num = 10\n",
    "\n",
    "for i in range(1, dice_num):\n",
    "    conv = np.convolve(a,b)\n",
    "    a = conv\n",
    "\n",
    "fig, ax = plt.subplots(1,1)\n",
    "x = range(len(conv))\n",
    "\n",
    "x = np.array(x)\n",
    "\n",
    "x = (x + dice_num)/dice_num\n",
    "\n",
    "\n",
    "print(np.std(conv))\n",
    "\n",
    "plt.plot(x,conv, '.')"
   ]
  },
  {
   "cell_type": "markdown",
   "id": "2072110e-563d-4301-8be0-d7627d748060",
   "metadata": {},
   "source": [
    "This looks very nearly gaussian! Let's check the semilog plot."
   ]
  },
  {
   "cell_type": "code",
   "execution_count": 9,
   "id": "419ebd82-c8c5-4c8c-af60-4339e04c8659",
   "metadata": {},
   "outputs": [
    {
     "data": {
      "text/plain": [
       "[<matplotlib.lines.Line2D at 0x7f60c88ffca0>]"
      ]
     },
     "execution_count": 9,
     "metadata": {},
     "output_type": "execute_result"
    },
    {
     "data": {
      "image/png": "[encoded data removed]",
      "text/plain": [
       "<Figure size 432x288 with 1 Axes>"
      ]
     },
     "metadata": {
      "needs_background": "light"
     },
     "output_type": "display_data"
    }
   ],
   "source": [
    "plt.plot(x,np.log(conv), '.')"
   ]
  },
  {
   "cell_type": "markdown",
   "id": "b6fcb935-0f1c-47a0-bfb8-afeb0f036d82",
   "metadata": {},
   "source": [
    "This has the characteristically parabolic shape of a Gaussian! When one considers the convolution of two sets of square data, we can see in earlier plots that the result is a triangle plot similar in formation to a negative absolute value. Applying the convolution function again to this triangle plot will \"accentuate\" this behavior and begin to create a curve in the data. Considering the input data is all symmetrical, the area under the initial curve will begin to grow smaller and smaller in comparison with the middle, leading to the Gaussian distribution we see with 10 dice."
   ]
  },
  {
   "cell_type": "markdown",
   "id": "a148cbad-a157-4e64-ab73-0adf9a31912b",
   "metadata": {},
   "source": [
    "#### Problem 5\n",
    "---"
   ]
  },
  {
   "cell_type": "markdown",
   "id": "83668142-879b-4a7b-8d9f-8ed618bcbf35",
   "metadata": {},
   "source": [
    "The convolution of two Gaussian curves is a Gaussian. The probabilty of an average is just the probabilty of a sum rescaled by however many events happened, so in the case of a sum, the standard deviation increases as the scale of the x-axis increases, but the standard deviation of an average should be less than the standard deviation of one event.\n",
    "\n",
    "Ex: The standard deviation of two dice is higher than one (from prob.3)"
   ]
  },
  {
   "cell_type": "code",
   "execution_count": null,
   "id": "34ff72cf-6d19-4345-b74e-5bcc773bfd94",
   "metadata": {},
   "outputs": [],
   "source": []
  },
  {
   "cell_type": "code",
   "execution_count": null,
   "id": "53477832-1f5a-4d8c-8b54-25b8e408915a",
   "metadata": {},
   "outputs": [],
   "source": []
  }
 ],
 "metadata": {
  "kernelspec": {
   "display_name": "Python 3",
   "language": "python",
   "name": "python3"
  },
  "language_info": {
   "codemirror_mode": {
    "name": "ipython",
    "version": 3
   },
   "file_extension": ".py",
   "mimetype": "text/x-python",
   "name": "python",
   "nbconvert_exporter": "python",
   "pygments_lexer": "ipython3",
   "version": "3.8.8"
  }
 },
 "nbformat": 4,
 "nbformat_minor": 5
}
