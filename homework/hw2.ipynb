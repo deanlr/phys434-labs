{
 "cells": [
  {
   "cell_type": "markdown",
   "id": "508f85ba-ecb8-4e91-b284-d58b0f450e69",
   "metadata": {},
   "source": [
    "Following what we did in class show how to use the convolution operator to determine the probability of the sum of 2 six sided dice. Do both analytically (math & counting) and numerically (computer program). Beware the implicit definition of the values (x-axis on histogram).\n",
    "\n",
    " Calculate the mean and the variance of the distribution in problem 2\n",
    " \n",
    " \n",
    " avg of 10 dice is just convolution of 10 divided by 10\n",
    " \n",
    " Show that the sum and average of an initially Gaussian distribution is also a Guassian (can be analytic or numerical). How does the standard deviation of the resulting sum or average Guassian change? This is a hugely important result. Explore what this means for integrating a signal over time"
   ]
  },
  {
   "cell_type": "code",
   "execution_count": 15,
   "id": "e487ae92-232a-430c-8af5-e1a1b4b457c3",
   "metadata": {
    "tags": []
   },
   "outputs": [],
   "source": [
    "import numpy as np\n",
    "from scipy import stats\n",
    "import statistics as st\n",
    "import matplotlib.pyplot as plt"
   ]
  },
  {
   "cell_type": "code",
   "execution_count": 16,
   "id": "657082f9-781a-4a81-b44e-ab0c6acf5396",
   "metadata": {},
   "outputs": [
    {
     "name": "stdout",
     "output_type": "stream",
     "text": [
      "6.0\n"
     ]
    }
   ],
   "source": [
    "p_zero = 1/36\n",
    "\n",
    "p_seven = 1/6\n",
    "\n",
    "ratio = p_seven/p_zero\n",
    "\n",
    "print(ratio)"
   ]
  },
  {
   "cell_type": "code",
   "execution_count": 30,
   "id": "bf40128d-0c93-45c7-8d4c-be2aef3e85d0",
   "metadata": {},
   "outputs": [
    {
     "name": "stdout",
     "output_type": "stream",
     "text": [
      "[1.65381717e-08 1.65381717e-07 9.09599443e-07 3.63839777e-06\n",
      " 1.18247928e-05 3.31094197e-05 8.26081676e-05 1.87542867e-04\n",
      " 3.92946959e-04 7.67701930e-04 1.40951530e-03 2.44665712e-03\n",
      " 4.03407353e-03 6.34189270e-03 9.53533096e-03 1.37465945e-02\n",
      " 1.90415547e-02 2.53867551e-02 3.26236936e-02 4.04573294e-02\n",
      " 4.84643679e-02 5.61241048e-02 6.28704385e-02 6.81581055e-02\n",
      " 7.15327194e-02 7.26928060e-02 7.15327194e-02 6.81581055e-02\n",
      " 6.28704385e-02 5.61241048e-02 4.84643679e-02 4.04573294e-02\n",
      " 3.26236936e-02 2.53867551e-02 1.90415547e-02 1.37465945e-02\n",
      " 9.53533096e-03 6.34189270e-03 4.03407353e-03 2.44665712e-03\n",
      " 1.40951530e-03 7.67701930e-04 3.92946959e-04 1.87542867e-04\n",
      " 8.26081676e-05 3.31094197e-05 1.18247928e-05 3.63839777e-06\n",
      " 9.09599443e-07 1.65381717e-07 1.65381717e-08]\n",
      "0.02513132061141249\n"
     ]
    },
    {
     "data": {
      "text/plain": [
       "[<matplotlib.lines.Line2D at 0x7f69a804d910>]"
      ]
     },
     "execution_count": 30,
     "metadata": {},
     "output_type": "execute_result"
    },
    {
     "data": {
      "image/png": "[encoded data removed]",
      "text/plain": [
       "<Figure size 432x288 with 1 Axes>"
      ]
     },
     "metadata": {
      "needs_background": "light"
     },
     "output_type": "display_data"
    }
   ],
   "source": [
    "a = [1/6, 1/6, 1/6, 1/6, 1/6, 1/6]\n",
    "b = a\n",
    "dice_num = 10\n",
    "\n",
    "for i in range(1, dice_num):\n",
    "    conv = np.convolve(a,b)\n",
    "    a = conv\n",
    "    \n",
    "print(conv)\n",
    "\n",
    "fig, ax = plt.subplots(1,1)\n",
    "x = range(len(conv))\n",
    "\n",
    "x = np.array(x)\n",
    "\n",
    "x = (x + dice_num)/dice_num\n",
    "\n",
    "\n",
    "print(np.std(conv))\n",
    "\n",
    "plt.plot(x,conv, '.')"
   ]
  },
  {
   "cell_type": "code",
   "execution_count": null,
   "id": "bf687ac0-a610-439d-8ac8-8cf8658accfa",
   "metadata": {},
   "outputs": [],
   "source": []
  },
  {
   "cell_type": "code",
   "execution_count": null,
   "id": "8231d3fe-df06-4ad2-9ddd-2fbb3d165800",
   "metadata": {},
   "outputs": [],
   "source": []
  }
 ],
 "metadata": {
  "kernelspec": {
   "display_name": "Python 3",
   "language": "python",
   "name": "python3"
  },
  "language_info": {
   "codemirror_mode": {
    "name": "ipython",
    "version": 3
   },
   "file_extension": ".py",
   "mimetype": "text/x-python",
   "name": "python",
   "nbconvert_exporter": "python",
   "pygments_lexer": "ipython3",
   "version": "3.8.8"
  }
 },
 "nbformat": 4,
 "nbformat_minor": 5
}
