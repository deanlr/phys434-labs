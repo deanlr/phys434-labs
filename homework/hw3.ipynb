{
 "cells": [
  {
   "cell_type": "markdown",
   "id": "3ace8286-b7c7-4da5-b1f9-afd7f88d2631",
   "metadata": {},
   "source": [
    "# HW1\n",
    "\n",
    "Dean Larson\n",
    "\n",
    "## Problem 1\n",
    "\n",
    "#### 1A\n",
    "\n",
    "The first algorithm makes 8 mistakes, and the new algorithm makes 12. But is the second algorithm distinctively worse?\n",
    "\n",
    "\n",
    "#### 1B\n",
    "\n",
    "The second algorith is better for the zoo. Although it is less accurate, it identifies more \"True Birds\" correctly than the first one, which will prevent a bird from escaping. The \"True Person\" identification rate isn't great (~80%) but as was discussed in the prompt, this isn't a huge deal (although the time lost from people getting stuck may add up for an employer over time!)\n",
    "\n",
    "\n",
    "#### 1C\n",
    "|             | True Bird   |True Person |\n",
    "| ----------- | ----------- | ---------- |\n",
    "| NN Bird     |         93  |          0 |\n",
    "| NN Person   |          6  |          1 |\n",
    "\n",
    "|             | True Bird   |True Person |\n",
    "| ----------- | ----------- | ---------- |\n",
    "| NA Bird     |         98  |          0 |\n",
    "| NA Person   |          1  |          1 |\n",
    "\n",
    "## Problem 2\n",
    "\n",
    "\n"
   ]
  },
  {
   "cell_type": "code",
   "execution_count": null,
   "id": "5411d0d4-11de-491b-a37a-3788156df038",
   "metadata": {},
   "outputs": [],
   "source": []
  }
 ],
 "metadata": {
  "kernelspec": {
   "display_name": "Python 3",
   "language": "python",
   "name": "python3"
  },
  "language_info": {
   "codemirror_mode": {
    "name": "ipython",
    "version": 3
   },
   "file_extension": ".py",
   "mimetype": "text/x-python",
   "name": "python",
   "nbconvert_exporter": "python",
   "pygments_lexer": "ipython3",
   "version": "3.8.8"
  }
 },
 "nbformat": 4,
 "nbformat_minor": 5
}
