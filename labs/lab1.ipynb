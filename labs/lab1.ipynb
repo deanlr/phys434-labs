{
 "cells": [
  {
   "cell_type": "code",
   "execution_count": 2,
   "id": "48d2a6a1-6a86-4f13-81a0-e14419c70822",
   "metadata": {},
   "outputs": [],
   "source": [
    "import numpy as np\n",
    "import scipy as sp\n",
    "import scipy.stats\n",
    "import matplotlib.pyplot as plt"
   ]
  },
  {
   "cell_type": "markdown",
   "id": "8e6d7d73-d5e6-459a-b873-8a788f729c70",
   "metadata": {},
   "source": [
    "# Lab 1\n",
    "\n",
    "When reporting probabilities in a scientific context, the standard is to convert this probabilty into a sigma value, which represents the probabilty of the data To convert sigma values back to a probabilty, some convoluted integration is required. Luckily, python has these capabilites built in. The *erfc* function is one of several scipy functions which returns a probabilty given an input sigma value. "
   ]
  },
  {
   "cell_type": "code",
   "execution_count": 3,
   "id": "594b05a7-c8f5-4807-9c91-5603ef927a80",
   "metadata": {},
   "outputs": [
    {
     "name": "stdout",
     "output_type": "stream",
     "text": [
      "0.15729920705028516\n",
      "0.004677734981047266\n",
      "2.2090496998585445e-05\n",
      "1.541725790028002e-08\n",
      "1.5374597944280347e-12\n"
     ]
    }
   ],
   "source": [
    "for x in range(1, 6):\n",
    "    print(sp.special.erfc(x))"
   ]
  },
  {
   "cell_type": "markdown",
   "id": "a939c3ff-9c9f-4546-9842-874b06fabbdb",
   "metadata": {},
   "source": [
    "Here we can see that *erfc* values roughly match up with the negative 1, 2, 3, and 4 sigma values on a z table (or the positive values subtracted from 1), giving us the probabilty that our target event happened outside of our measured sigma value. As previously mentioned, the accepted standard is to convert this probabilty into a sigma value, but a probabilty can also be converted back into a sigma, as is shown below."
   ]
  },
  {
   "cell_type": "code",
   "execution_count": 4,
   "id": "ba41e591-c19b-4975-8b1a-af44e88b25be",
   "metadata": {},
   "outputs": [
    {
     "data": {
      "text/plain": [
       "-4.991217139907698"
      ]
     },
     "execution_count": 4,
     "metadata": {},
     "output_type": "execute_result"
    }
   ],
   "source": [
    "sp.stats.norm.ppf(3e-7)"
   ]
  },
  {
   "cell_type": "markdown",
   "id": "e07f45a1-3abf-4fc5-a672-f05ae9fec4b3",
   "metadata": {},
   "source": [
    "Here we see the sigma value reported as a negative number. This is probably due to the fact that the built in function uses the left side of the normal distribution to find the associated sigma value as this would come up first when searching from negative to positive."
   ]
  },
  {
   "cell_type": "markdown",
   "id": "a13ce1a5-935c-4c3c-bebf-c2a5c930764f",
   "metadata": {},
   "source": [
    "### Rayleigh Distribution"
   ]
  },
  {
   "cell_type": "markdown",
   "id": "666ad880-6a08-41f6-8297-67af0b6df53a",
   "metadata": {},
   "source": [
    "A Rayliegh distribution is distinct in that it is not identical on each side of its peak. Applications of Rayleigh distributions are most common in places where long-lived or large events are less common than those of shorter length. Examples are wave height or product lifespan. Let's create a sample set of data with built-in Python functions."
   ]
  },
  {
   "cell_type": "code",
   "execution_count": 5,
   "id": "78439c76-bf11-4d86-b728-7bc481ad71ce",
   "metadata": {},
   "outputs": [
    {
     "data": {
      "image/png": "[encoded data removed]",
      "text/plain": [
       "<Figure size 432x288 with 1 Axes>"
      ]
     },
     "metadata": {
      "needs_background": "light"
     },
     "output_type": "display_data"
    }
   ],
   "source": [
    "\n",
    "#def prob_graph(loc, scale, xleft, xright, size)\n",
    "\n",
    "d = sp.stats.rayleigh.rvs(loc = 2.0, scale = 1, size = 100000)\n",
    "\n",
    "xleft = 1.95\n",
    "xright = 7\n",
    "\n",
    "fig, ax = plt.subplots(1, 1)\n",
    "ax.hist(d,50, density=True)\n",
    "plt.tick_params(labelsize = 20)\n",
    "plt.xlim(xleft, xright)\n",
    "x = np.linspace(xleft,xright,1000)\n",
    "ax.plot(x, sp.stats.rayleigh.pdf(x,loc = 2, scale = 1),linewidth = 7,alpha = 0.6)\n",
    "plt.show()"
   ]
  },
  {
   "cell_type": "markdown",
   "id": "1c30cd11-f4b2-499b-b431-fe40c90ae83b",
   "metadata": {},
   "source": [
    "Looks pretty good! The 100,000 sample size seems to have created a pretty accurate distrobution. However, towards the top end (~X = 6), we can't really tell what is going on. The height of the distribution is controlled by the 'scale' factor in the pdf, with a higher scale representing a wider and shorter distribution. Plotting our data on a semilog graph reveals some interesting secrets."
   ]
  },
  {
   "cell_type": "code",
   "execution_count": 6,
   "id": "460bfc43-0b4e-460e-b033-4ed175e00fde",
   "metadata": {},
   "outputs": [
    {
     "data": {
      "image/png": "[encoded data removed]",
      "text/plain": [
       "<Figure size 432x288 with 1 Axes>"
      ]
     },
     "metadata": {
      "needs_background": "light"
     },
     "output_type": "display_data"
    }
   ],
   "source": [
    "\n",
    "#def prob_graph(loc, scale, xleft, xright, size)\n",
    "\n",
    "d = sp.stats.rayleigh.rvs(loc = 2.0, scale = 1, size = 100000)\n",
    "\n",
    "xleft = 1.95\n",
    "xright = 7\n",
    "\n",
    "fig, ax = plt.subplots(1, 1)\n",
    "ax.set_yscale('log')\n",
    "ax.hist(d,50, density=True)\n",
    "plt.tick_params(labelsize = 20)\n",
    "plt.xlim([xleft, xright])\n",
    "x = np.linspace(xleft,xright,1000)\n",
    "ax.plot(x,sp.stats.rayleigh.pdf(x,loc = 2, scale = 1),linewidth = 7,alpha = 0.6)\n",
    "plt.show()"
   ]
  },
  {
   "cell_type": "markdown",
   "id": "f5d740c7-923d-47ba-b664-213ffeb090e1",
   "metadata": {},
   "source": [
    "Even with the large sample size, there is a suprisingly large amount of innacuracy towards the tail of the distribution."
   ]
  },
  {
   "cell_type": "markdown",
   "id": "c816821e-55de-4609-80a3-2f75ff904dd7",
   "metadata": {},
   "source": [
    "The theoretical data above could represent the lifetime of a company's product in years. If a similar, slightly redesigned product has a lifespan of 4.5 years, what is the chance that this is not an improvement over our original product?"
   ]
  },
  {
   "cell_type": "code",
   "execution_count": 7,
   "id": "0128cba6-3cbd-4e84-a6a3-4a1775eee8d1",
   "metadata": {},
   "outputs": [
    {
     "data": {
      "text/plain": [
       "0.999959934702607"
      ]
     },
     "execution_count": 7,
     "metadata": {},
     "output_type": "execute_result"
    }
   ],
   "source": [
    "sp.stats.rayleigh.cdf(4.5)"
   ]
  },
  {
   "cell_type": "code",
   "execution_count": 8,
   "id": "21549fef-c899-431f-8d08-aa9b1a857768",
   "metadata": {},
   "outputs": [
    {
     "data": {
      "text/plain": [
       "3.9440091612702726"
      ]
     },
     "execution_count": 8,
     "metadata": {},
     "output_type": "execute_result"
    }
   ],
   "source": [
    "sp.stats.norm.ppf(0.999959934702607)"
   ]
  },
  {
   "cell_type": "markdown",
   "id": "f0fa41ab-ca25-4e9b-9aac-276903017a35",
   "metadata": {},
   "source": [
    "This comes out to be a sigma value of 3.94, which while very significant, would not be accepted by the scientific community in a physics-related context."
   ]
  },
  {
   "cell_type": "markdown",
   "id": "ca546a98-08f7-4941-8cf6-57890e90a7fe",
   "metadata": {},
   "source": [
    "### Binomial Distribution"
   ]
  },
  {
   "cell_type": "code",
   "execution_count": 9,
   "id": "1baa4ce5-68d6-4675-9c58-a9585a55b0df",
   "metadata": {},
   "outputs": [
    {
     "data": {
      "text/plain": [
       "<matplotlib.collections.LineCollection at 0x7f0d5da94190>"
      ]
     },
     "execution_count": 9,
     "metadata": {},
     "output_type": "execute_result"
    },
    {
     "data": {
      "image/png": "[encoded data removed]",
      "text/plain": [
       "<Figure size 432x288 with 1 Axes>"
      ]
     },
     "metadata": {
      "needs_background": "light"
     },
     "output_type": "display_data"
    }
   ],
   "source": [
    "fig, ax = plt.subplots(1,1)\n",
    "n, p = 100, .45\n",
    "\n",
    "x = np.arange(sp.stats.binom.ppf(0.01, n, p), sp.stats.binom.ppf(0.99, n, p))\n",
    "plt.xlim(30, 60)\n",
    "\n",
    "ax.plot(x, sp.stats.binom.pmf(x, n, p), 'o')\n",
    "\n",
    "ax.vlines(x, 0, sp.stats.binom.pmf(x, n, p))"
   ]
  },
  {
   "cell_type": "code",
   "execution_count": 10,
   "id": "8a8ea31a-47ed-4db9-86ce-148ddc556cfe",
   "metadata": {},
   "outputs": [
    {
     "data": {
      "text/plain": [
       "<matplotlib.collections.LineCollection at 0x7f0d5d770c40>"
      ]
     },
     "execution_count": 10,
     "metadata": {},
     "output_type": "execute_result"
    },
    {
     "data": {
      "image/png": "[encoded data removed]",
      "text/plain": [
       "<Figure size 432x288 with 1 Axes>"
      ]
     },
     "metadata": {
      "needs_background": "light"
     },
     "output_type": "display_data"
    }
   ],
   "source": [
    "fig, ax = plt.subplots(1,1)\n",
    "n, p = 100, .45\n",
    "\n",
    "x = np.arange(sp.stats.binom.ppf(0.01, n, p), sp.stats.binom.ppf(0.99, n, p))\n",
    "plt.xlim(30, 60)\n",
    "\n",
    "ax.plot(x, sp.stats.binom.pmf(x, n, p), 'o')\n",
    "ax.set_yscale('log')\n",
    "ax.vlines(x, 0, sp.stats.binom.pmf(x, n, p))"
   ]
  },
  {
   "cell_type": "markdown",
   "id": "fcf9bd5b-1df1-49a8-a57c-a6044c1611b1",
   "metadata": {},
   "source": [
    "In a semilog plot, the distribution takes on the shape of a slightly skewed parabola, looking very similar to, but slightly different from a Gaussian curve."
   ]
  },
  {
   "cell_type": "markdown",
   "id": "7a79e3fa-3360-4d3e-8ba4-d9d0770b3a39",
   "metadata": {},
   "source": [
    "Using the distrubition above, let's assume we flip a coin that is slightly biased to one side. We'd assume most outcomes would land around 45 on one side to 55 on the other, which is reflected in the graph. One difference in comparison to our previous question, which dealt with a continuous probabilty, is that our probabilty only takes on integer values, which makes the binomial distribution good for counting events if we know the general probability that it should happen. Unlike individual data points, statistics about the binomial distribution don't have to necessarily be an integer value. If the average family has 1.9 kids, that clearly does not mean that any familiy has that exact value."
   ]
  },
  {
   "cell_type": "markdown",
   "id": "e8dcbccf-a638-4824-b1f1-9761de02bf96",
   "metadata": {},
   "source": [
    "So what happens if we get 60 heads on a second coin with unknown properties? Could it be the same type of coin?"
   ]
  },
  {
   "cell_type": "code",
   "execution_count": 13,
   "id": "4e3d3042-6bd0-4855-a825-6c5cf481c24e",
   "metadata": {},
   "outputs": [
    {
     "data": {
      "text/plain": [
       "0.9990617681011207"
      ]
     },
     "execution_count": 13,
     "metadata": {},
     "output_type": "execute_result"
    }
   ],
   "source": [
    "sp.stats.binom.cdf(60, n, p)"
   ]
  },
  {
   "cell_type": "code",
   "execution_count": 56,
   "id": "28424e86-416a-464a-aa86-67842360561e",
   "metadata": {},
   "outputs": [
    {
     "data": {
      "text/plain": [
       "3.1091185978008937"
      ]
     },
     "execution_count": 56,
     "metadata": {},
     "output_type": "execute_result"
    }
   ],
   "source": [
    "sp.stats.norm.ppf(0.9990617681011207)"
   ]
  },
  {
   "cell_type": "markdown",
   "id": "821dc6f7-f958-43c2-9f2f-b101ae30713c",
   "metadata": {},
   "source": [
    "Most likely, this coin is different, but there wouldn't be enough results here to publish it in a paper."
   ]
  }
 ],
 "metadata": {
  "kernelspec": {
   "display_name": "Python 3",
   "language": "python",
   "name": "python3"
  },
  "language_info": {
   "codemirror_mode": {
    "name": "ipython",
    "version": 3
   },
   "file_extension": ".py",
   "mimetype": "text/x-python",
   "name": "python",
   "nbconvert_exporter": "python",
   "pygments_lexer": "ipython3",
   "version": "3.8.8"
  }
 },
 "nbformat": 4,
 "nbformat_minor": 5
}
